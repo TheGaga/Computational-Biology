{
 "cells": [
  {
   "cell_type": "code",
   "execution_count": 55,
   "metadata": {},
   "outputs": [
    {
     "name": "stdout",
     "output_type": "stream",
     "text": [
      "/home/be131-09/GIT/Computational-Biology/Lab8\r\n"
     ]
    }
   ],
   "source": [
    "# Import the necessary libraries and sanity check the current directory\n",
    "import matplotlib.pyplot as plt\n",
    "import math\n",
    "import numpy as np\n",
    "%matplotlib inline\n",
    "!pwd"
   ]
  },
  {
   "cell_type": "code",
   "execution_count": 77,
   "metadata": {},
   "outputs": [
    {
     "data": {
      "image/png": "[encoded data removed]",
      "text/plain": [
       "<Figure size 432x288 with 1 Axes>"
      ]
     },
     "metadata": {
      "needs_background": "light"
     },
     "output_type": "display_data"
    },
    {
     "name": "stdout",
     "output_type": "stream",
     "text": [
      "the average coverage 14.047804437500002\n"
     ]
    }
   ],
   "source": [
    "# Extract the coverage information from fasta file, create a list and plot the histogram\n",
    "command_output = !grep '>' contigs.fasta | cut -d \"_\" -f6\n",
    "coverage_list = list(map(float, command_output ))\n",
    "plt.hist(coverage_list, range(len(coverage_list)))\n",
    "plt.show()\n",
    "\n",
    "print(\"the average coverage\", np.mean(coverage_list))"
   ]
  },
  {
   "cell_type": "code",
   "execution_count": 76,
   "metadata": {},
   "outputs": [
    {
     "data": {
      "image/png": "[encoded data removed]",
      "text/plain": [
       "<Figure size 432x288 with 1 Axes>"
      ]
     },
     "metadata": {
      "needs_background": "light"
     },
     "output_type": "display_data"
    }
   ],
   "source": [
    "# A enlarged view of the histogram in range (0,50)\n",
    "plt.hist(coverage_list, range(len(coverage_list)))\n",
    "\n",
    "plt.xlim(left=0, right = 50)\n",
    "plt.show()"
   ]
  },
  {
   "cell_type": "code",
   "execution_count": 86,
   "metadata": {},
   "outputs": [],
   "source": [
    "# Locate the RNA genes with rna_hmm3.py and ouput to rRNA_locate in GFF\n",
    "! rna_hmm3.py -i contigs.fasta -o rRNA_locate"
   ]
  },
  {
   "cell_type": "code",
   "execution_count": 87,
   "metadata": {},
   "outputs": [
    {
     "name": "stdout",
     "output_type": "stream",
     "text": [
      "NODE_23_length_103367_cov_10.081286\trna_hmm3\trRNA\t35531\t37075\t0\t+\tNA\t16S_rRNA\r\n",
      "NODE_18_length_154232_cov_9.584186\trna_hmm3\trRNA\t124542\t126086\t0\t+\tNA\t16S_rRNA\r\n",
      "NODE_5_length_327223_cov_9.241629\trna_hmm3\trRNA\t46286\t47830\t0\t+\tNA\t16S_rRNA\r\n",
      "NODE_6_length_298784_cov_8.918606\trna_hmm3\trRNA\t13926\t15470\t0\t+\tNA\t16S_rRNA\r\n",
      "NODE_4_length_332509_cov_9.114046\trna_hmm3\trRNA\t137012\t138556\t0\t-\tNA\t16S_rRNA\r\n",
      "NODE_2_length_378948_cov_10.006665\trna_hmm3\trRNA\t348500\t350044\t0\t+\tNA\t16S_rRNA\r\n"
     ]
    }
   ],
   "source": [
    "# Delete the lines that don't contain the string '16S' and ouput the results\n",
    "! sed -i '/16S/!d' rRNA_locate\n",
    "! cat rRNA_locate"
   ]
  },
  {
   "cell_type": "code",
   "execution_count": 88,
   "metadata": {},
   "outputs": [],
   "source": [
    "# Extract nucleic acid sequences of the genes identified and write to a fasta file\n",
    "! bedtools getfasta -fi contigs.fasta -bed rRNA_locate > 16S_rRNA.fasta"
   ]
  }
 ],
 "metadata": {
  "kernelspec": {
   "display_name": "Python 3",
   "language": "python",
   "name": "python3"
  },
  "language_info": {
   "codemirror_mode": {
    "name": "ipython",
    "version": 3
   },
   "file_extension": ".py",
   "mimetype": "text/x-python",
   "name": "python",
   "nbconvert_exporter": "python",
   "pygments_lexer": "ipython3",
   "version": "3.6.6"
  }
 },
 "nbformat": 4,
 "nbformat_minor": 2
}
