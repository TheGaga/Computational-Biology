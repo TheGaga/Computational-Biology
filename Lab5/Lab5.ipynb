{
 "cells": [
  {
   "cell_type": "markdown",
   "metadata": {},
   "source": [
    "# Lab5 - RNA folding\n",
    "\n",
    "\n",
    "| Riboswitch name | Start OBS-1  | End OBS-1 | Start OBS-2 | End OBS-2 | Start red1 | End red1 | Start red2 | Snd red2 |Sequence|\n",
    "|------|------|------|------|------|------|------|------|\n",
    "|   YES-1 | 26|47|N/A|N/A|16|21|49|54|GGGCGACCCUGAUGAGCUUGAGUUUAGCUCGUCACUGUCCAGGUUCAAUCAGGCGAAACGGUGAAAGCCGUAGGUUGCCC|\n",
    "|   NOT-1  | 44|66|N/A|N/A|40|43| 74|77|GGCAGGUACAUACAGCUGAUGAGUCCCAAAUAGGACGAAACGCGACACACACCACUAAACCGUGCAGUGUUUUGCGUCCUGUAUUCCACUGC|\n",
    "|   AND-1 | 30|45|49|64|16|23|70|77|GGGCGACCCUGAUGAGCUUGGUUUAGUAUUUACAGCUCCAUACAUGAGGUGUUAUCCCUAUGCAAGUUCGAUCAGGCGAAACGGUGAAAGCCGUAGGUUGCCCAGAGACAAU|\n",
    "|   OR-1 | 27|46|47|66|16|26|67|77|GGGCGACCCUGAUGAGCUUGGUUGAGUAUUUACAGCUCCAUACAUGAGGUGUUCUCCCUACGCAAGUUCGAUCAGGCGAAACGGUGAAAGCCGUAGGUUGCCC|"
   ]
  },
  {
   "cell_type": "markdown",
   "metadata": {},
   "source": [
    "## Running RNAfold"
   ]
  },
  {
   "cell_type": "code",
   "execution_count": 67,
   "metadata": {},
   "outputs": [
    {
     "name": "stdout",
     "output_type": "stream",
     "text": [
      "*** Terminal output ***\n",
      "\n",
      "*** Output file ***\n",
      ">YES-1\r\n",
      "GGGCGACCCUGAUGAGCUUGAGUUUAGCUCGUCACUGUCCAGGUUCAAUCAGGCGAAACGGUGAAAGCCGUAGGUUGCCC\r\n",
      "((((((((.(((((((((.......))))))))).((.((.(((...))).))))..(((((....))))).)))))))) (-33.00)\r\n",
      ">NOT-1\r\n",
      "GGCAGGUACAUACAGCUGAUGAGUCCCAAAUAGGACGAAACGCGACACACACCACUAAACCGUGCAGUGUUUUGCGUCCUGUAUUCCACUGC\r\n",
      ".((((....((((((.......((((......))))...((((((.((((..(((......)))..)))).)))))).))))))....)))) (-28.10)\r\n",
      ">AND-1\r\n",
      "GGGCGACCCUGAUGAGCUUGGUUUAGUAUUUACAGCUCCAUACAUGAGGUGUUAUCCCUAUGCAAGUUCGAUCAGGCGAAACGGUGAAAGCCGUAGGUUGCCCAGAGACAAU\r\n",
      "((((((((((((((((((((...(((.....(((.(((.......))).))).....)))..))))))).))))).....(((((....))))).))))))))......... (-42.10)\r\n",
      ">OR-1\r\n",
      "GGGCGACCCUGAUGAGCUUGGUUGAGUAUUUACAGCUCCAUACAUGAGGUGUUCUCCCUACGCAAGUUCGAUCAGGCGAAACGGUGAAAGCCGUAGGUUGCCC\r\n",
      "((((((((((((((((((((((.(((.....(((.(((.......))).))).)))...)).))))))).))))).....(((((....))))).)))))))) (-40.00)\r\n",
      "\n"
     ]
    }
   ],
   "source": [
    "import subprocess\n",
    "\n",
    "seqs = \\\n",
    "\"\"\">YES-1\n",
    "GGGCGACCCUGAUGAGCUUGAGUUUAGCUCGUCACUGUCCAGGUUCAAUCAGGCGAAACGGUGAAAGCCGUAGGUUGCCC\n",
    ">NOT-1\n",
    "GGCAGGUACAUACAGCUGAUGAGUCCCAAAUAGGACGAAACGCGACACACACCACUAAACCGUGCAGUGUUUUGCGUCCUGUAUUCCACUGC\n",
    ">AND-1\n",
    "GGGCGACCCUGAUGAGCUUGGUUUAGUAUUUACAGCUCCAUACAUGAGGUGUUAUCCCUAUGCAAGUUCGAUCAGGCGAAACGGUGAAAGCCGUAGGUUGCCCAGAGACAAU\n",
    ">OR-1\n",
    "GGGCGACCCUGAUGAGCUUGGUUGAGUAUUUACAGCUCCAUACAUGAGGUGUUCUCCCUACGCAAGUUCGAUCAGGCGAAACGGUGAAAGCCGUAGGUUGCCC\n",
    ">@\n",
    "\"\"\"\n",
    "\n",
    "p = subprocess.run(['RNAfold'],\n",
    "                   input=bytes(seqs,'ascii'),\n",
    "                  stdout=subprocess.PIPE,\n",
    "                  stderr=subprocess.PIPE)\n",
    "\n",
    "print(\"*** Terminal output ***\")\n",
    "print(p.stderr.decode())\n",
    "\n",
    "print(\"*** Output file ***\")\n",
    "print(p.stdout.decode())"
   ]
  },
  {
   "cell_type": "markdown",
   "metadata": {},
   "source": [
    "### Plot analysis\n",
    "\n",
    "#### Default conditions\n",
    "\n",
    "##### YES-1\n",
    "\n",
    " <img src=\"YES-1_ss.png\" width=\"300\">\n",
    "\n",
    "##### NOT-1\n",
    " <img src=\"NOT-1_ss.png\" width=\"300\">\n",
    "\n",
    "##### AND-1\n",
    " <img src=\"AND-1_ss.png\" width=\"300\">\n",
    "\n",
    "##### OR-1\n",
    "<img src=\"OR-1_ss.png\" width=\"300\">\n",
    "\n",
    "\n",
    "The obtained RNA plots differ from those obtained by Penchovsky & Breaker. For instance, in YES-1 the first red region forms a loop independent from the blue region. "
   ]
  },
  {
   "cell_type": "markdown",
   "metadata": {},
   "source": [
    "#### Effect of temperature"
   ]
  },
  {
   "cell_type": "code",
   "execution_count": 68,
   "metadata": {},
   "outputs": [
    {
     "name": "stdout",
     "output_type": "stream",
     "text": [
      "*** Terminal output ***\n",
      "\n",
      "*** Output file ***\n",
      ">YES-1_TEMP5\r\n",
      "GGGCGACCCUGAUGAGCUUGAGUUUAGCUCGUCACUGUCCAGGUUCAAUCAGGCGAAACGGUGAAAGCCGUAGGUUGCCC\r\n",
      "((((((((((((((((((((.(..(((.......))).)))))))).))))).....(((((....))))).)))))))) (-53.19)\r\n",
      ">NOT-1_TEMP5\r\n",
      "GGCAGGUACAUACAGCUGAUGAGUCCCAAAUAGGACGAAACGCGACACACACCACUAAACCGUGCAGUGUUUUGCGUCCUGUAUUCCACUGC\r\n",
      ".((((....(((((((....).((((......))))...((((((.((((..(((......)))..)))).)))))).))))))....)))) (-51.78)\r\n",
      ">AND-1_TEMP5\r\n",
      "GGGCGACCCUGAUGAGCUUGGUUUAGUAUUUACAGCUCCAUACAUGAGGUGUUAUCCCUAUGCAAGUUCGAUCAGGCGAAACGGUGAAAGCCGUAGGUUGCCCAGAGACAAU\r\n",
      "((((((((((((((((((((...(((.....(((.(((.......))).))).....)))..))))))).))))).....(((((....))))).))))))))......... (-70.09)\r\n",
      ">OR-1_TEMP5\r\n",
      "GGGCGACCCCUGAUGGCUUGGUUGAGUAUUUACAGCUCCAUAUACAUGAGGUGUUCUCCCUACGCAAGUUCGAUCAGGCGAAACGGUGAAAGCCGUAGGUUGCCC\r\n",
      "((((((((((((((((((((((.(.(.....(((.(((.((....))))).)))...).).)).))))))..))))))....(((((....))))).)))))))) (-63.51)\r\n",
      "\n"
     ]
    }
   ],
   "source": [
    "seqs = \\\n",
    "\"\"\">YES-1_TEMP5\n",
    "GGGCGACCCUGAUGAGCUUGAGUUUAGCUCGUCACUGUCCAGGUUCAAUCAGGCGAAACGGUGAAAGCCGUAGGUUGCCC\n",
    ">NOT-1_TEMP5\n",
    "GGCAGGUACAUACAGCUGAUGAGUCCCAAAUAGGACGAAACGCGACACACACCACUAAACCGUGCAGUGUUUUGCGUCCUGUAUUCCACUGC\n",
    ">AND-1_TEMP5\n",
    "GGGCGACCCUGAUGAGCUUGGUUUAGUAUUUACAGCUCCAUACAUGAGGUGUUAUCCCUAUGCAAGUUCGAUCAGGCGAAACGGUGAAAGCCGUAGGUUGCCCAGAGACAAU\n",
    ">OR-1_TEMP5\n",
    "GGGCGACCCCUGAUGGCUUGGUUGAGUAUUUACAGCUCCAUAUACAUGAGGUGUUCUCCCUACGCAAGUUCGAUCAGGCGAAACGGUGAAAGCCGUAGGUUGCCC\n",
    ">@\n",
    "\"\"\"\n",
    "\n",
    "p = subprocess.run(['RNAfold', '--temp=5'],\n",
    "                   input=bytes(seqs,'ascii'),\n",
    "                  stdout=subprocess.PIPE,\n",
    "                  stderr=subprocess.PIPE)\n",
    "\n",
    "print(\"*** Terminal output ***\")\n",
    "print(p.stderr.decode())\n",
    "\n",
    "print(\"*** Output file ***\")\n",
    "print(p.stdout.decode())"
   ]
  },
  {
   "cell_type": "markdown",
   "metadata": {},
   "source": [
    "Changing temperature affects RNA folding structure. With T = 5°C, YES-1 has the same structure as the one obtained by Penchovsky & Breaker.\n",
    "\n",
    "##### YES-1 at 5°C\n",
    "\n",
    " <img src=\"YES-1_ss.png\" width=\"300\">"
   ]
  },
  {
   "cell_type": "markdown",
   "metadata": {},
   "source": [
    "## Folding under constraint with OBS binding\n",
    "\n",
    "### YES-1\n",
    "Here we simulate OBS binding in the True configuration."
   ]
  },
  {
   "cell_type": "code",
   "execution_count": 69,
   "metadata": {},
   "outputs": [
    {
     "name": "stdout",
     "output_type": "stream",
     "text": [
      "*** Terminal output ***\n",
      "\n",
      "*** Output file ***\n",
      ">YES-1_T\r\n",
      "GGGCGACCCUGAUGAGCUUGAGUUUAGCUCGUCACUGUCCAGGUUCAAUCAGGCGAAACGGUGAAAGCCGUAGGUUGCCC\r\n",
      "((((((((.......((((((...........................))))))...(((((....))))).)))))))) (-24.50)\r\n",
      "\n"
     ]
    }
   ],
   "source": [
    "#YES-1 constrained\n",
    "seq = \"GGGCGACCCUGAUGAGCUUGAGUUUAGCUCGUCACUGUCCAGGUUCAAUCAGGCGAAACGGUGAAAGCCGUAGGUUGCCC\"\n",
    "bstart = 26\n",
    "bend = 47\n",
    "end = len(seq)\n",
    "\n",
    "string = \">YES-1_T\\n\" +seq+\"\\n\"\n",
    "\n",
    "for i in range(bstart):\n",
    "    string += \".\"    \n",
    "for i in range(bstart, bend+1):\n",
    "    string += \"x\"    \n",
    "for i in range(bend+1, end):\n",
    "    string += \".\" \n",
    "\n",
    "string += \"\\n>@\"\n",
    "    \n",
    "p = subprocess.run(['RNAfold', '-C'],\n",
    "                       input=bytes(string, 'ascii'),\n",
    "                      stdout=subprocess.PIPE,\n",
    "                      stderr=subprocess.PIPE)\n",
    "\n",
    "# print(string)\n",
    "print(\"*** Terminal output ***\")\n",
    "print(p.stderr.decode())\n",
    "\n",
    "print(\"*** Output file ***\")\n",
    "print(p.stdout.decode())"
   ]
  },
  {
   "cell_type": "code",
   "execution_count": 70,
   "metadata": {},
   "outputs": [
    {
     "name": "stdout",
     "output_type": "stream",
     "text": [
      "*** Terminal output ***\n",
      "\n",
      "*** Output file ***\n",
      ">NOT-1_T\r\n",
      "GGCAGGUACAUACAGCUGAUGAGUCCCAAAUAGGACGAAACGCGACACACACCACUAAACCGUGCAGUGUUUUGCGUCCUGUAUUCCACUGC\r\n",
      ".((((....((((((..((((.((((......))))(((((...........................))))).))))))))))....)))) (-16.00)\r\n",
      "\n"
     ]
    }
   ],
   "source": [
    "#NOT-1 constrained\n",
    "seq = \"GGCAGGUACAUACAGCUGAUGAGUCCCAAAUAGGACGAAACGCGACACACACCACUAAACCGUGCAGUGUUUUGCGUCCUGUAUUCCACUGC\"\n",
    "bstart = 44\n",
    "bend = 66\n",
    "end = len(seq)\n",
    "\n",
    "string = \">NOT-1_T\\n\" +seq+\"\\n\"\n",
    "\n",
    "for i in range(bstart):\n",
    "    string += \".\"    \n",
    "for i in range(bstart, bend+1):\n",
    "    string += \"x\"    \n",
    "for i in range(bend+1, end):\n",
    "    string += \".\" \n",
    "    \n",
    "string += \"\\n>@\"\n",
    "    \n",
    "p = subprocess.run(['RNAfold', '-C'],\n",
    "                       input=bytes(string, 'ascii'),\n",
    "                      stdout=subprocess.PIPE,\n",
    "                      stderr=subprocess.PIPE)\n",
    "\n",
    "\n",
    "print(\"*** Terminal output ***\")\n",
    "print(p.stderr.decode())\n",
    "\n",
    "print(\"*** Output file ***\")\n",
    "print(p.stdout.decode())"
   ]
  },
  {
   "cell_type": "code",
   "execution_count": 71,
   "metadata": {},
   "outputs": [
    {
     "name": "stdout",
     "output_type": "stream",
     "text": [
      "*** Terminal output ***\n",
      "\n",
      "*** Output file ***\n",
      ">NOT-1_T_TEMP5\r\n",
      "GGCAGGUACAUACAGCUGAUGAGUCCCAAAUAGGACGAAACGCGACACACACCACUAAACCGUGCAGUGUUUUGCGUCCUGUAUUCCACUGC\r\n",
      ".((((....((((((..((((.((((......))))(((((...........................))))).))))))))))....)))) (-64.88)\r\n",
      "\n"
     ]
    }
   ],
   "source": [
    "#NOT-1 constrained\n",
    "seq = \"GGCAGGUACAUACAGCUGAUGAGUCCCAAAUAGGACGAAACGCGACACACACCACUAAACCGUGCAGUGUUUUGCGUCCUGUAUUCCACUGC\"\n",
    "bstart = 44\n",
    "bend = 66\n",
    "end = len(seq)\n",
    "\n",
    "string = \">NOT-1_T_TEMP5\\n\" +seq+\"\\n\"\n",
    "\n",
    "for i in range(bstart):\n",
    "    string += \".\"    \n",
    "for i in range(bstart, bend+1):\n",
    "    string += \"x\"    \n",
    "for i in range(bend+1, end):\n",
    "    string += \".\" \n",
    "    \n",
    "string += \"\\n>@\"\n",
    "    \n",
    "p = subprocess.run(['RNAfold', '--temp=-50', '-C'],\n",
    "                       input=bytes(string, 'ascii'),\n",
    "                      stdout=subprocess.PIPE,\n",
    "                      stderr=subprocess.PIPE)\n",
    "\n",
    "\n",
    "print(\"*** Terminal output ***\")\n",
    "print(p.stderr.decode())\n",
    "\n",
    "print(\"*** Output file ***\")\n",
    "print(p.stdout.decode())"
   ]
  },
  {
   "cell_type": "markdown",
   "metadata": {},
   "source": [
    "### AND-1\n",
    "Here we simulate OBS binding in the TT, TF and FT configuration."
   ]
  },
  {
   "cell_type": "code",
   "execution_count": 72,
   "metadata": {},
   "outputs": [
    {
     "name": "stdout",
     "output_type": "stream",
     "text": [
      "*** Terminal output ***\n",
      "\n",
      "*** Output file ***\n",
      ">AND-1_TT\r\n",
      "GGGCGACCCUGAUGAGCUUGGUUUAGUAUUUACAGCUCCAUACAUGAGGUGUUAUCCCUAUGCAAGUUCGAUCAGGCGAAACGGUGAAAGCCGUAGGUUGCCCAGAGACAAU\r\n",
      "(((((((((((((((((................................................)))).))))).....(((((....))))).))))))))......... (-26.30)\r\n",
      ">AND-1_TF\r\n",
      "GGGCGACCCUGAUGAGCUUGGUUUAGUAUUUACAGCUCCAUACAUGAGGUGUUAUCCCUAUGCAAGUUCGAUCAGGCGAAACGGUGAAAGCCGUAGGUUGCCCAGAGACAAU\r\n",
      "((((((((((((((((((((..........................(((.(....))))...))))))).))))).....(((((....))))).))))))))......... (-33.90)\r\n",
      ">AND-1_FT\r\n",
      "GGGCGACCCUGAUGAGCUUGGUUUAGUAUUUACAGCUCCAUACAUGAGGUGUUAUCCCUAUGCAAGUUCGAUCAGGCGAAACGGUGAAAGCCGUAGGUUGCCCAGAGACAAU\r\n",
      "((((((((((.(((....(((...(((.......))))))..))).))..................((((......))))(((((....))))).))))))))......... (-28.30)\r\n",
      "\n"
     ]
    }
   ],
   "source": [
    "# AND-1 constrained\n",
    "bstart1 = 30\n",
    "bend1 = 45\n",
    "bstart2 = 49\n",
    "bend2 = 64\n",
    "end = 112\n",
    "\n",
    "seq = \"GGGCGACCCUGAUGAGCUUGGUUUAGUAUUUACAGCUCCAUACAUGAGGUGUUAUCCCUAUGCAAGUUCGAUCAGGCGAAACGGUGAAAGCCGUAGGUUGCCCAGAGACAAU\"\n",
    "\n",
    "## T/T - creating text file for TT constraint\n",
    "string = \">AND-1_TT\\n\"+seq+\"\\n\"\n",
    "for i in range(bstart1):\n",
    "    string += \".\"    \n",
    "for i in range(bstart1, bend1+1):\n",
    "    string += \"x\"    \n",
    "for i in range(bend1+1, bstart2):\n",
    "    string += \".\"   \n",
    "for i in range(bstart2, bend2+1):\n",
    "    string += \"x\"    \n",
    "for i in range(bend2+1, end):\n",
    "    string += \".\"\n",
    "\n",
    "## T/F - creating text file for TF constraint\n",
    "string += \"\\n>AND-1_TF\\n\"+seq+\"\\n\"\n",
    "for i in range(bstart1):\n",
    "    string += \".\"    \n",
    "for i in range(bstart1, bend1+1):\n",
    "    string += \"x\"    \n",
    "for i in range(bend1+1, end):\n",
    "    string += \".\"\n",
    "\n",
    "## F/T - creating text file for FT constraint\n",
    "string += \"\\n>AND-1_FT\\n\"+seq+\"\\n\"\n",
    "for i in range(bstart2):\n",
    "    string += \".\"    \n",
    "for i in range(bstart2, bend2+1):\n",
    "    string += \"x\"    \n",
    "for i in range(bend2+1, end):\n",
    "    string += \".\"\n",
    "\n",
    "string += \"\\n>@\"\n",
    "    \n",
    "p = subprocess.run(['RNAfold', '-C'],\n",
    "                       input=bytes(string, 'ascii'),\n",
    "                      stdout=subprocess.PIPE,\n",
    "                      stderr=subprocess.PIPE)\n",
    "\n",
    "\n",
    "print(\"*** Terminal output ***\")\n",
    "print(p.stderr.decode())\n",
    "\n",
    "print(\"*** Output file ***\")\n",
    "print(p.stdout.decode())"
   ]
  },
  {
   "cell_type": "markdown",
   "metadata": {},
   "source": [
    "### OR-1\n",
    "Here we simulate OBS binding in the TT, TF and FT configuration."
   ]
  },
  {
   "cell_type": "code",
   "execution_count": 73,
   "metadata": {},
   "outputs": [
    {
     "name": "stdout",
     "output_type": "stream",
     "text": [
      "*** Terminal output ***\n",
      "\n",
      "*** Output file ***\n",
      ">OR-1_TT\r\n",
      "GGGCGACCCUGAUGAGCUUGGUUGAGUAUUUACAGCUCCAUACAUGAGGUGUUCUCCCUACGCAAGUUCGAUCAGGCGAAACGGUGAAAGCCGUAGGUUGCCC\r\n",
      "((((((((.......((((((((((..........................................))))))))))...(((((....))))).)))))))) (-28.84)\r\n",
      ">OR-1_TF\r\n",
      "GGGCGACCCUGAUGAGCUUGGUUGAGUAUUUACAGCUCCAUACAUGAGGUGUUCUCCCUACGCAAGUUCGAUCAGGCGAAACGGUGAAAGCCGUAGGUUGCCC\r\n",
      "((((((((((((((((((((((.(((...........................)))...)).))))))).))))).....(((((....))))).)))))))) (-34.20)\r\n",
      ">OR-1_FT\r\n",
      "GGGCGACCCUGAUGAGCUUGGUUGAGUAUUUACAGCUCCAUACAUGAGGUGUUCUCCCUACGCAAGUUCGAUCAGGCGAAACGGUGAAAGCCGUAGGUUGCCC\r\n",
      "((((((((.......((((((((((..........................................))))))))))...(((((....))))).)))))))) (-28.84)\r\n",
      "\n"
     ]
    }
   ],
   "source": [
    "# OR-1 constrained\n",
    "bstart1 = 27\n",
    "bend1 = 46\n",
    "bstart2 = 47\n",
    "bend2 = 66\n",
    "\n",
    "seq = \"GGGCGACCCUGAUGAGCUUGGUUGAGUAUUUACAGCUCCAUACAUGAGGUGUUCUCCCUACGCAAGUUCGAUCAGGCGAAACGGUGAAAGCCGUAGGUUGCCC\"\n",
    "end = len(seq)\n",
    "\n",
    "## T/T - creating text file for TT constraint\n",
    "string = \">OR-1_TT\\n\"+seq+\"\\n\"\n",
    "for i in range(bstart1):\n",
    "    string += \".\"    \n",
    "for i in range(bstart1, bend1+1):\n",
    "    string += \"x\"    \n",
    "for i in range(bend1+1, bstart2):\n",
    "    string += \".\"   \n",
    "for i in range(bstart2, bend2+1):\n",
    "    string += \"x\"    \n",
    "for i in range(bend2+1, end):\n",
    "    string += \".\"\n",
    "\n",
    "## T/F - creating text file for TF constraint\n",
    "string += \"\\n>OR-1_TF\\n\"+seq+\"\\n\"\n",
    "for i in range(bstart1):\n",
    "    string += \".\"    \n",
    "for i in range(bstart1, bend1+1):\n",
    "    string += \"x\"    \n",
    "for i in range(bend1+1, end):\n",
    "    string += \".\"\n",
    "\n",
    "## F/T - creating text file for FT constraint\n",
    "string += \"\\n>OR-1_FT\\n\"+seq+\"\\n\"\n",
    "for i in range(bstart2):\n",
    "    string += \".\"    \n",
    "for i in range(bstart2, bend2+1):\n",
    "    string += \"x\"    \n",
    "for i in range(bend2+1, end):\n",
    "    string += \".\"\n",
    "\n",
    "string += \"\\n>@\"\n",
    "    \n",
    "p = subprocess.run(['RNAfold', '-C'],\n",
    "                       input=bytes(string, 'ascii'),\n",
    "                      stdout=subprocess.PIPE,\n",
    "                      stderr=subprocess.PIPE)\n",
    "\n",
    "\n",
    "print(\"*** Terminal output ***\")\n",
    "print(p.stderr.decode())\n",
    "\n",
    "print(\"*** Output file ***\")\n",
    "print(p.stdout.decode())"
   ]
  }
 ],
 "metadata": {
  "kernelspec": {
   "display_name": "Python 3",
   "language": "python",
   "name": "python3"
  },
  "language_info": {
   "codemirror_mode": {
    "name": "ipython",
    "version": 3
   },
   "file_extension": ".py",
   "mimetype": "text/x-python",
   "name": "python",
   "nbconvert_exporter": "python",
   "pygments_lexer": "ipython3",
   "version": "3.6.5"
  }
 },
 "nbformat": 4,
 "nbformat_minor": 2
}
