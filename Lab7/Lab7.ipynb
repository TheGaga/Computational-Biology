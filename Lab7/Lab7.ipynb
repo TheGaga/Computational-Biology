{
 "cells": [
  {
   "cell_type": "markdown",
   "metadata": {},
   "source": [
    "# Import libraries"
   ]
  },
  {
   "cell_type": "code",
   "execution_count": 6,
   "metadata": {},
   "outputs": [],
   "source": [
    "import numpy as np\n",
    "import string\n",
    "from os import listdir\n",
    "from os.path import isfile, join\n",
    "\n",
    "import matplotlib.pyplot as plt\n",
    "%matplotlib inline"
   ]
  },
  {
   "cell_type": "markdown",
   "metadata": {},
   "source": [
    "# Simulating the data"
   ]
  },
  {
   "cell_type": "markdown",
   "metadata": {},
   "source": [
    "## Binary data"
   ]
  },
  {
   "cell_type": "code",
   "execution_count": 7,
   "metadata": {},
   "outputs": [],
   "source": [
    "percentages = [i for i in range(50,101,10)]  # a list a desired percentage\n",
    "\n",
    "for p in percentages:   # call ramdom to generate random data, call packbits and then write them into file\n",
    "    binary_data = np.packbits(np.random.choice([0, 1], size=8*1024*1024*100, replace=True, p = [p/100, 1-p/100]))\n",
    "    open('Data/zeros_%sp' %p, 'wb').write(binary_data)"
   ]
  },
  {
   "cell_type": "markdown",
   "metadata": {},
   "source": [
    "## DNA data"
   ]
  },
  {
   "cell_type": "code",
   "execution_count": 10,
   "metadata": {},
   "outputs": [],
   "source": [
    "# generate DNA sequence 100 million letters long with equal probability and save it into a file\n",
    "\n",
    "dna = np.random.choice(['A', 'T', 'G', 'C'], size=100000000, replace=True);\n",
    "open('Data/dna.fa', 'w').write(''.join(dna));"
   ]
  },
  {
   "cell_type": "markdown",
   "metadata": {},
   "source": [
    "## Protein data"
   ]
  },
  {
   "cell_type": "code",
   "execution_count": 9,
   "metadata": {},
   "outputs": [],
   "source": [
    "# generate protein sequence 100 million letters long with equal probability and save it into a file\n",
    "\n",
    "protein = np.random.choice(list(string.ascii_uppercase), size=100000000, replace=True);\n",
    "open('Data/protein.fa', 'w').write(''.join(protein));"
   ]
  },
  {
   "cell_type": "markdown",
   "metadata": {},
   "source": [
    "# Compressing the data"
   ]
  },
  {
   "cell_type": "code",
   "execution_count": 11,
   "metadata": {},
   "outputs": [
    {
     "name": "stdout",
     "output_type": "stream",
     "text": [
      "['zeros_90p', 'zeros_80p', 'dna.fa', 'protein.fa', 'zeros_100p', 'zeros_50p', 'zeros_70p', 'zeros_60p']\n"
     ]
    }
   ],
   "source": [
    "# print out the file names under the dir for sanity check\n",
    "\n",
    "onlyfiles = [f for f in listdir('Data') if isfile(join('Data', f))]\n",
    "print(str([f for f in onlyfiles]))"
   ]
  },
  {
   "cell_type": "code",
   "execution_count": 12,
   "metadata": {
    "scrolled": true
   },
   "outputs": [
    {
     "name": "stdout",
     "output_type": "stream",
     "text": [
      "---------------------------------------------------------\n",
      "\n",
      " Terminal output for Data/zeros_90p using gzip\n",
      "23.57user 0.13system 0:23.70elapsed 99%CPU (0avgtext+0avgdata 1824maxresident)k\n",
      "0inputs+114728outputs (0major+136minor)pagefaults 0swaps\n",
      "\n",
      " Terminal output for Data/zeros_90p using bzip2\n",
      "11.14user 0.11system 0:11.26elapsed 99%CPU (0avgtext+0avgdata 7740maxresident)k\n",
      "0inputs+119464outputs (0major+1690minor)pagefaults 0swaps\n",
      "\n",
      " Terminal output for Data/zeros_90p using pbzip2\n",
      "19.30user 0.78system 0:00.76elapsed 2639%CPU (0avgtext+0avgdata 275020maxresident)k\n",
      "0inputs+119488outputs (0major+223335minor)pagefaults 0swaps\n",
      "\n",
      " Terminal output for Data/zeros_90p using ArithmeticCompress\n",
      "28.51user 0.29system 0:28.81elapsed 99%CPU (0avgtext+0avgdata 4284maxresident)k\n",
      "0inputs+96064outputs (0major+232minor)pagefaults 0swaps\n",
      "---------------------------------------------------------\n",
      "\n",
      " Terminal output for Data/zeros_80p using gzip\n",
      "16.52user 0.19system 0:16.72elapsed 99%CPU (0avgtext+0avgdata 1776maxresident)k\n",
      "0inputs+158512outputs (0major+207minor)pagefaults 0swaps\n",
      "\n",
      " Terminal output for Data/zeros_80p using bzip2\n",
      "11.92user 0.11system 0:12.04elapsed 99%CPU (0avgtext+0avgdata 7720maxresident)k\n",
      "0inputs+169224outputs (0major+1691minor)pagefaults 0swaps\n",
      "\n",
      " Terminal output for Data/zeros_80p using pbzip2\n",
      "24.17user 0.87system 0:00.95elapsed 2631%CPU (0avgtext+0avgdata 281972maxresident)k\n",
      "0inputs+169248outputs (0major+228749minor)pagefaults 0swaps\n",
      "\n",
      " Terminal output for Data/zeros_80p using ArithmeticCompress\n",
      "35.12user 0.26system 0:35.39elapsed 99%CPU (0avgtext+0avgdata 4376maxresident)k\n",
      "0inputs+147848outputs (0major+234minor)pagefaults 0swaps\n",
      "---------------------------------------------------------\n",
      "\n",
      " Terminal output for Data/dna.fa using gzip\n",
      "14.47user 0.08system 0:14.56elapsed 99%CPU (0avgtext+0avgdata 1816maxresident)k\n",
      "0inputs+57080outputs (0major+227minor)pagefaults 0swaps\n",
      "\n",
      " Terminal output for Data/dna.fa using bzip2\n",
      "9.46user 0.03system 0:09.49elapsed 99%CPU (0avgtext+0avgdata 7720maxresident)k\n",
      "0inputs+53392outputs (0major+1690minor)pagefaults 0swaps\n",
      "\n",
      " Terminal output for Data/dna.fa using pbzip2\n",
      "17.14user 0.68system 0:00.69elapsed 2583%CPU (0avgtext+0avgdata 265112maxresident)k\n",
      "0inputs+53408outputs (0major+207249minor)pagefaults 0swaps\n",
      "\n",
      " Terminal output for Data/dna.fa using ArithmeticCompress\n",
      "21.16user 0.24system 0:21.41elapsed 99%CPU (0avgtext+0avgdata 4312maxresident)k\n",
      "0inputs+48832outputs (0major+238minor)pagefaults 0swaps\n",
      "---------------------------------------------------------\n",
      "\n",
      " Terminal output for Data/protein.fa using gzip\n",
      "4.54user 0.13system 0:04.67elapsed 99%CPU (0avgtext+0avgdata 1808maxresident)k\n",
      "0inputs+124080outputs (0major+211minor)pagefaults 0swaps\n",
      "\n",
      " Terminal output for Data/protein.fa using bzip2\n",
      "12.68user 0.11system 0:12.80elapsed 100%CPU (0avgtext+0avgdata 7716maxresident)k\n",
      "0inputs+116784outputs (0major+1692minor)pagefaults 0swaps\n",
      "\n",
      " Terminal output for Data/protein.fa using pbzip2\n",
      "19.82user 0.90system 0:00.82elapsed 2527%CPU (0avgtext+0avgdata 270564maxresident)k\n",
      "0inputs+116792outputs (0major+214472minor)pagefaults 0swaps\n",
      "\n",
      " Terminal output for Data/protein.fa using ArithmeticCompress\n",
      "29.63user 0.21system 0:29.85elapsed 99%CPU (0avgtext+0avgdata 4228maxresident)k\n",
      "0inputs+114760outputs (0major+232minor)pagefaults 0swaps\n",
      "---------------------------------------------------------\n",
      "\n",
      " Terminal output for Data/zeros_100p using gzip\n",
      "0.84user 0.02system 0:00.87elapsed 100%CPU (0avgtext+0avgdata 1868maxresident)k\n",
      "0inputs+200outputs (0major+146minor)pagefaults 0swaps\n",
      "\n",
      " Terminal output for Data/zeros_100p using bzip2\n",
      "1.15user 0.07system 0:01.22elapsed 99%CPU (0avgtext+0avgdata 8756maxresident)k\n",
      "0inputs+8outputs (0major+1901minor)pagefaults 0swaps\n",
      "\n",
      " Terminal output for Data/zeros_100p using pbzip2\n",
      "1.96user 0.10system 0:00.10elapsed 1964%CPU (0avgtext+0avgdata 49172maxresident)k\n",
      "0inputs+16outputs (0major+25343minor)pagefaults 0swaps\n",
      "\n",
      " Terminal output for Data/zeros_100p using ArithmeticCompress\n",
      "18.74user 0.18system 0:18.93elapsed 100%CPU (0avgtext+0avgdata 4232maxresident)k\n",
      "0inputs+8outputs (0major+235minor)pagefaults 0swaps\n",
      "---------------------------------------------------------\n",
      "\n",
      " Terminal output for Data/zeros_50p using gzip\n",
      "4.29user 0.16system 0:04.45elapsed 100%CPU (0avgtext+0avgdata 1764maxresident)k\n",
      "0inputs+204840outputs (0major+129minor)pagefaults 0swaps\n",
      "\n",
      " Terminal output for Data/zeros_50p using bzip2\n",
      "16.56user 0.15system 0:16.72elapsed 99%CPU (0avgtext+0avgdata 7728maxresident)k\n",
      "0inputs+205712outputs (0major+1690minor)pagefaults 0swaps\n",
      "\n",
      " Terminal output for Data/zeros_50p using pbzip2\n",
      "40.15user 0.81system 0:01.50elapsed 2718%CPU (0avgtext+0avgdata 288796maxresident)k\n",
      "0inputs+205728outputs (0major+272296minor)pagefaults 0swaps\n",
      "\n",
      " Terminal output for Data/zeros_50p using ArithmeticCompress\n",
      "40.44user 0.34system 0:40.79elapsed 99%CPU (0avgtext+0avgdata 4252maxresident)k\n",
      "0inputs+204808outputs (0major+232minor)pagefaults 0swaps\n",
      "---------------------------------------------------------\n",
      "\n",
      " Terminal output for Data/zeros_70p using gzip\n",
      "6.34user 0.14system 0:06.49elapsed 99%CPU (0avgtext+0avgdata 1760maxresident)k\n",
      "0inputs+182848outputs (0major+203minor)pagefaults 0swaps\n",
      "\n",
      " Terminal output for Data/zeros_70p using bzip2\n",
      "14.12user 0.15system 0:14.28elapsed 99%CPU (0avgtext+0avgdata 7744maxresident)k\n",
      "0inputs+194848outputs (0major+1690minor)pagefaults 0swaps\n",
      "\n",
      " Terminal output for Data/zeros_70p using pbzip2\n",
      "30.37user 0.94system 0:01.17elapsed 2656%CPU (0avgtext+0avgdata 285180maxresident)k\n",
      "0inputs+194856outputs (0major+246608minor)pagefaults 0swaps\n",
      "\n",
      " Terminal output for Data/zeros_70p using ArithmeticCompress\n",
      "47.82user 0.45system 0:48.34elapsed 99%CPU (0avgtext+0avgdata 4376maxresident)k\n",
      "0inputs+180488outputs (0major+235minor)pagefaults 0swaps\n",
      "---------------------------------------------------------\n",
      "\n",
      " Terminal output for Data/zeros_60p using gzip\n",
      "5.43user 0.19system 0:05.63elapsed 99%CPU (0avgtext+0avgdata 1764maxresident)k\n",
      "0inputs+200040outputs (0major+129minor)pagefaults 0swaps\n",
      "\n",
      " Terminal output for Data/zeros_60p using bzip2\n",
      "18.07user 0.13system 0:18.21elapsed 99%CPU (0avgtext+0avgdata 7728maxresident)k\n",
      "0inputs+204912outputs (0major+1690minor)pagefaults 0swaps\n",
      "\n",
      " Terminal output for Data/zeros_60p using pbzip2\n",
      "36.63user 0.79system 0:01.39elapsed 2689%CPU (0avgtext+0avgdata 288500maxresident)k\n",
      "0inputs+204920outputs (0major+263888minor)pagefaults 0swaps\n",
      "\n",
      " Terminal output for Data/zeros_60p using ArithmeticCompress\n",
      "42.17user 0.40system 0:42.58elapsed 99%CPU (0avgtext+0avgdata 4264maxresident)k\n",
      "0inputs+198856outputs (0major+272minor)pagefaults 0swaps\n"
     ]
    }
   ],
   "source": [
    "from pathlib import Path\n",
    "\n",
    "onlyfiles = [f for f in listdir('Data') if isfile(join('Data', f))]        # a list containing all the files to be compressed\n",
    "\n",
    "for f in onlyfiles:\n",
    "    print(\"---------------------------------------------------------\")\n",
    "    file = 'Data/' + str(f)\n",
    "    art_file = file + '.art'\n",
    "    zip_file = file +'.gz'\n",
    "    duplicate_file = 'Data/ZIP/' + str(f)                   # some file names to be used\n",
    "\n",
    "    command = !rm $zip_file                             # removed the already generated compressed files\n",
    "    \n",
    "    print(\"\\n\", \"Terminal output for %s using gzip\" %file)     # compress each file using four commands\n",
    "    !time gzip -k $file\n",
    "    print(\"\\n\", \"Terminal output for %s using bzip2\" %file)\n",
    "    !time bzip2 -k $file\n",
    "    print(\"\\n\", \"Terminal output for %s using pbzip2\" %file)\n",
    "    !time pbzip2 -k $duplicate_file\n",
    "    print(\"\\n\", \"Terminal output for %s using ArithmeticCompress\" %file)\n",
    "    !time ArithmeticCompress $file $art_file"
   ]
  },
  {
   "cell_type": "markdown",
   "metadata": {},
   "source": []
  },
  {
   "cell_type": "markdown",
   "metadata": {},
   "source": [
    "## Table Summary\n",
    "\n",
    "|original file|command type|input file size|output file size|time elapse|\n",
    "|------|------|------|------|------|\n",
    "|zeros_50p|gzip|105 MB|105 MB|0:04.45|\n",
    "|zeros_50p|bzip2|105 MB|105 MB|0:16.72|\n",
    "|zeros_50p|pbzip2|105 MB|105 MB|0:01.50|\n",
    "|zeros_50p|ArithmeticCompress|105 MB|105 MB|0:40.79|\n",
    "|zeros_60p|gzip|105 MB|102 MB|0:05.63|\n",
    "|zeros_60p|bzip2|105 MB|105 MB|0:18.21|\n",
    "|zeros_60p|pbzip2|105 MB|105 MB|0:01.39|\n",
    "|zeros_60p|ArithmeticCompress|105 MB|102 MB|0:42.58|\n",
    "|zeros_70p|gzip|105 MB|93.6 MB|0:06.49|\n",
    "|zeros_70p|bzip2|105 MB|99.8 MB|0:14.28|\n",
    "|zeros_70p|pbzip2|105 MB|99.8 MB|0:01.17|\n",
    "|zeros_70p|ArithmeticCompress|105 MB|92.4 MB|0:48.34|\n",
    "|zeros_80p|gzip|105 MB|81.2 MB|0:16.72|\n",
    "|zeros_80p|bzip2|105 MB|86.6 MB|0:12.04|\n",
    "|zeros_80p|pbzip2|105 MB|86.7 MB|0:00.95|\n",
    "|zeros_80p|ArithmeticCompress|105 MB|75.7 MB|0:35.39|\n",
    "|zeros_90p|gzip|105 MB|58.7 MB|0:23.70|\n",
    "|zeros_90p|bzip2|105 MB|61.2 MB|0:11.26|\n",
    "|zeros_90p|pbzip2|105 MB|61.2 MB|0:00.76|\n",
    "|zeros_90p|ArithmeticCompress|105 MB|49.2 MB|0:28.81|\n",
    "|zeros_100p|gzip|105 MB|102 kB|0:00.87|\n",
    "|zeros_100p|bzip2|105 MB|113 B|0:01.22|\n",
    "|zeros_100p|pbzip2|105 MB|5.62 kB|0:00.10|\n",
    "|zeros_100p|ArithmeticCompress|105 MB|1.03 kB|0:18.93|\n",
    "|dna.fa|gzip|100 MB|29.2 MB|0:14.56|\n",
    "|dna.fa|bzip2|100 MB|27.3 MB|0:09.49|\n",
    "|dna.fa|pbzip2|100 MB|27.3 MB|0:00.69|\n",
    "|dna.fa|ArithmeticCompress|100 MB|25 MB|0:21.41|\n",
    "|protein.fa|gzip|100 MB|63.5 MB|0:04.67|\n",
    "|protein.fa|bzip2|100 MB|59.8 MB|0:12.80|\n",
    "|protein.fa|pbzip2|100 MB|59.8 MB|0:00.82|\n",
    "|protein.fa|ArithmeticCompress|100 MB|58.8 MB|0:29.85|"
   ]
  },
  {
   "cell_type": "markdown",
   "metadata": {},
   "source": [
    "## Compressing real data"
   ]
  },
  {
   "cell_type": "code",
   "execution_count": 71,
   "metadata": {},
   "outputs": [],
   "source": [
    "from Bio import Entrez\n",
    "from Bio import SeqIO\n",
    "import sys\n",
    "\n",
    "Entrez.email = \"zach_lyu@berkeley.edu\"\n",
    "list_seq = []      # a list containing the sequences\n",
    "list_name = []     # a list containing the names\n",
    "\n",
    "handle = Entrez.esearch(db = 'nucleotide',       # search 10 results and save the names and sequences\n",
    "                        term = 'gp120 and HIV',\n",
    "                        sort = 'relevance',\n",
    "                        idtype = 'acc',\n",
    "                        retmax = 10)\n",
    "            \n",
    "            \n",
    "for i in Entrez.read(handle)['IdList']:\n",
    "    handle = Entrez.efetch(db = 'nucleotide', id = i, rettype = 'gb', retmode = 'text')\n",
    "    record = SeqIO.read(handle, \"genbank\")\n",
    "    list_name.append(str(record.name))\n",
    "    list_seq.append(str(record.seq))\n",
    "    handle.close()"
   ]
  },
  {
   "cell_type": "code",
   "execution_count": 76,
   "metadata": {},
   "outputs": [],
   "source": [
    "dict_gp120 = dict(zip(list_name, list_seq))        # summarize the information into a dictionary\n",
    "\n",
    "ofile = open(\"multi_fasta.fa\", \"w\")\n",
    "\n",
    "for i in range(len(list_seq)):                    # write to the multi_fasta file\n",
    "    ofile.write(\">\" + list_name[i] + \"\\n\" +list_seq[i] + \"\\n\")\n",
    "\n",
    "ofile.close()"
   ]
  },
  {
   "cell_type": "code",
   "execution_count": 77,
   "metadata": {},
   "outputs": [
    {
     "name": "stdout",
     "output_type": "stream",
     "text": [
      ">AF236860\r\n",
      "GTTCCTGTGTGGAAAGATGCAGAGACCACCTTATTTTGTGCATCAGATGCCAAAGCACATGAGACAGAAGTGCACAATGTCTGGGCCACACATGCCTGTGTACCCACAGACCCCAACCCACAAGAAATACAACTGAAAAATGTAACAGAGAATTTTAACATGTGGAAAAATAACATGGTAGAGCAGATGCAGGAGGATGTAATCAGTTTATGGGATCAAAGTCTAAAGCCATGTGTAAAGTTAACTCCTCTCTGCGTTACTTTAAATTGTACCGATGCTACTTTGACCAATAGCACTTACATAACCAATGTCTCTAAGATAATAGGAGATATAACAGAGGAAGTAAGAAACTGTTCTTTTAATATGACCACAGAACTAAGAGATAAGAAGCAGAAGGTCCATGCACTTTTTTTATAAGCTTGATATAGTAGAAATTGAAAAGAATAGGAATGAGTATAGGTTAATAAATTGTAATACTTCGGTCATTAAGCAGGCTTGTCCAAAGATATCCTTTGATCCAATTCCTATACATTATTGTACTCCAGCTGGTTATGCGATTTTAAAGTGTAATGATAAGAATTTCAATGGGACAGGGCCATGTAAAAATGTCAGCTCAGTACAATGCACACATGGAATTAAGCCAGTGGTATCAACTCAATTGCTGTTAAATGGCAGTCTAGCAGAAGAAGAGATAATAATCAGATCTGAAAATCTCACAAACAATGCCAAAACCATAATAGTGCACCTTAATAAATCTGTAGAAATCAATTGTACCAGACCCTTCAACAATACAAGAACAAGTATAACTATAGGACCAGGACAAATGTTCTATAGAACAGGAGAGATAATAGGAGATATAACAAAAGCATATTGTGAGATTAATGGAACAAAATGGAATGAAACTTTAAAACAGGTAGCTGAAAAACTAAAAGAGCACTTTAATAATAAGACAATAGTCTTTCAACCACCCTCAGGAGGAGATCTAGAAATTACAATGCATCATTTTAATTGTAGAGGGGAATTTTTCTATTGCAATACAACACGACTGTTTAATCATACTTACATGGAAAATAAAACCATGGGGGGGTGTAATGACACTATCATACTTCCATGCAAGATAAAGAAAATTATAAATATGTGGCAGGGAGTAGGACAAGCAATGTATGCTCCTCCCATCAGGGGAAGCATTAATTGTGTATCAAATATTACAGGAATACTATTGATAAGAGATGGTGGTGATAATAATGCGACTAACGAGACCTTCAGACCTGGAGGAGGAAATATAAAGGACAATTGGAGAAGTGAATTATATAAATATAAAGTAGTACAAATTGAACCACTAGGAATAGCACCCACCAGGGCAAAGGGAAGAGTGGTGGAGAGAGAAAGAAGA\r\n",
      ">AF236859\r\n",
      "GTTCCTGTGTGGAGAGATGCAGATACCACCCTATTTTGTGCATCAGATGCCAAATCACATGTGACAGAAGCACACAATGTCTGGGCCACACATGCCTGTGTACCCACAGACCCCAACCCGCAAGAAATACACCTGGAAAATGTAACAGAAAATTTTAACATGTGGAAAAATAACATGGTAGAGCAGATGCAGGAGGATGTAATCAGTTTATGGGAGCAAAGTCTAAAGCCATGTGTAAAGTTAACTCCTCTCTGCGTTACTTTAAATTGTACCAATGCTAATTTGACCAATGCTAATTTGACCAATGCTAATAACATAACCAATGTAGAAAATATAACAGATGAGGTAAGAAACTGTTCTTTTAATGTAACCACAGACCTAAGAGATAAGCAGCAGAAGGTCCATGCACTTTTTTATAGGCTTGATATAGTACAAATTAATAGTAAGAATAGTAGTGATTATAGGTTAATAAATTGTAATACTTCAGTTATTAAGCAGGCTTGTCCAAAGATATCCTTTGATCCAATTCCTATACATTATTGTACTCCAGCTGGTTATGCGATTTTAAAGTGTAATGATAAAAATTTCAATGGGACAGGGCCATGTAAAAATGTCAGCTCAGTACAATGCACACATGGAATTAAGCCAGTGGTATCAACTCAATTGCTGTTAAATGGCAGTCTAGCAGAAGAAGAGATAATAATCAGATCTGAAAATCTCACAAACAATGTCAAAACCATAATAGTGCACCTTAATAAATCTGTAGAAATCAATTGTACCAGACCCTCCAACAATACAAGAACCAGTATAACTATAGGACCAGGACAAGTATTCTATAGAACAGGAGACATAATAGGAGATATAAGGAAAGTATCTTGTGAGCTTAACGGAACAAAATGGAATGAAGTTTTAAAACAGGTAAAGGAAAAATTAAAAGAGCACTTTAATAAGAACATAAGCTTTCAACCACCCTCAGGAGGAGATCTAGAAATTACAATGCATCATTTTAGTTGTAGAGGGGAATTTTTCTATTGCAATACAACACAACTGTTTAATAATACTTACAGTAATGGCACTATCACACTTCCATGCAAGATAAAGCAAATTATAAACATGTGGCAGGGAGTAGGACAAGCAATGTATGCTCCTCCCATCAGTGGAAGAATTAATTGTTTATCAAATATTACAGGGTTGCTATTAACAAGAGATGGTAATAATGGGACCAATGAGACCTTTAGACCTGGAGGAGGAAATATAAAGGACAATTGGAGAAGTGAATTATATAAATGTAAAGTAGTACAAATTGAACCACTAGGAATAGCACCCACCAGGGCAAAGAGAAGAGTGGTGGAGAGAGAAAAAAAA\r\n",
      ">Y14421\r\n",
      "AATGGCAGTCTAGCAGAAGGAGAGGTAGTAATTAGATCTGAAAATTTCACAGACAATGCTAAAACCATAATAGTACAGCTGAATGAATCTGTAGTAATTAATTGCACAAGACCCAACAACAATACAAGAAAAAATATACATCTAGGACGGGGGCGTTCAGTTTATGCCACAGAAAAAATAATAGGAAATGTAAAACAAGCACATTGTAACATTAGTAGAGCAAAATGGAATGACACTTTAAAACAGATAGTTGAAAAATTAAGAGAACAATTTGGAAAAAATAAAACAATAGTCTTTAATCAATCCTCAGGAGGGGACCCAGAAATTG\r\n",
      ">Y14420\r\n",
      "GCTTCCAGTCTAGCAGAAGAAGAGGTAATGATCAGATCTGAAAATATCACAGACAATACCAAGAACATAATAGTACAGCTTAAGACGCCTGTAAACATTACCTGTACCAGACCCAACAATAACACGAGAAAAGGAATACATATAGCACCAGGACAAGCACTCTATGCAACAGGTGACATAATAGGAGATATAAGACAAGCACATTGTAATATTAGTGGAACAAAATGGAATAACACTTTACAAGAGGTAGTTACACAATTAGGAGAACACCTGAACAAGAGCACAATAGAGTTTAACCACCATTCAGGAGGGGACCCAGAAATTC\r\n",
      ">Y14419\r\n",
      "GCTTGCAGTCTAGCAGAAGAAGAGGTAGTAATTAGATCTGAAAATTTCACAGACAATGCTAAAACCATAATAGTACAGCTGAATGAATCTGTAGTAATTAATTGCACAAGACCCAGCAACAATACAAGAAAAAGTATACATCTAGGATGGGGGCGTTCAGTTTATGCCACAGGAGACATAATAGGAGATATAAGACAAGCACATTGTAACATTAGTAGAGCAAAATGGAATGACACTTTAAAACAGATAGTTGAAAAATTAAGAGAACAATTTGGGGAAAATAAAACAATAATCTTTAATCAATCCTCAGGAGGGGACCCAGAAATTG\r\n",
      ">Y14418\r\n",
      "AATGGTAGTCTAGCAGAAGAAGGGATACAGATTAGATCTGAAAATATCACAAACAATGCCAAAACCATAATAGTACAACTTGATAAGGCTGTAAAAATTAATTGTACCAGACCTAACAACAATACAAGAAAAGGTGTAAGGATAGGACCAGGACAAGCATTCTATGCAACAGGTGGTATAATAGGGGATATAAGACAGGCACATTGTAATGTCAGTAGAGCAAAATGGAACGACACTTTACGAGGGGTAGCCAAAAAACTACGAGAACACTTTAAAAACAAAACAATAATCTTTGAGAAATCCTCAGGAGGGGACCCAGAAATTG\r\n",
      ">Y14417\r\n",
      "GCTTGCAGTCTAGCAGAAGAAGAGGTAGTTATTAGTCTGAAAATCTCACAGAACAATGCTAAAAACATAATAGTACAGCTGAAAGAACCTATAAAAATTAATTGCACAAGACCCAACAACAATACAAGAAAAAGCATACATATAACACCAGGGAGAGCATTTTATGCAACAGGAGACATAATAGGAGACATAAGACAAGCACATTGTAACCTTAGTAGAACAAGATGGAATAAAACTTTAGGAGAGATAGTTAAAAAATTAAGAGAACAATTTAAAAATAAGACAATAATCTTTAATTCATCCTCAGGAGGGGACCCAGAAATTG\r\n",
      ">Y14416\r\n",
      "GCTTGCAGTCTAGCAGAAGAAGAGGTAATAATTAGATCTGCCAATTTCTCGAACAATACTAAAACCATAATAGTACAACTGAATGAATCTGTGGTAATTAATTGTACAAGACCCAACAACAATACAAGAAGAAGTGTAAATATAGGACCAGGGAGAGCATTTTTTACAACAGGAGATATAATAGGAGATATAAGACAAGCACATTGTAACCTTAGTAGAGCACAATGGAATGACACTTTAAAAAGGGTAGTTGAAAAATTAAAAGAACAATTTGTGAATAAGACAATAGTCTTTAATCAATCCTCAGGAGGGGACCCAGAAATTG\r\n",
      ">Y14415\r\n",
      "AATGGAAGTCTAGCAGCAGAAAAGGTAATGATCAGATCTGAAAATATCACAGACAATACCAAGAACATAATAGTACAGCTTAAGACGCCTGTAAACATTACCTGTGCCAGACCCAACAATAACACGAGAAGAAGTATACATATAGGACCAGGACAAGCATTCTATGCAACAGGTGAGGTAATAGGAGATATAAGACAAGCACATTGTAATATTAGTGGAACAAAGTGGAATGCCACTTTACACGAGGTAGTTACACAATTAGGAGAACACCTGAACAAGAGCATAATAGAGTTTAAACCATCCTCAGGAGGGGACCCAGAAATTG\r\n",
      ">Y14414\r\n",
      "AATGGTAGCCTAGCAGAAGGAGAGATAATAATTAGATCTAAAAATCTGACAGACAATGCCAAAATAATAATAGTACATCTTAATGAATCTGTAGGAAATGTGTGTACAAGACCCAACAATAATACAAGAAAAAGTATAAGAATAGGACCAGGACAAGCATTTTATGCAAATAATGACATAATAGGGGACATAAGACAAGCACATTGTAACATTACTGAAAATGCCTGGAATAAAACTTTACAAATGGTAGGTAAAAAATTAAAAGAGCACTTCCCTAATAAAACAACAATAATATTTGAACCATCCTCAGGAGGGGACCCAGAAATTG\r\n"
     ]
    }
   ],
   "source": [
    "!cat multi_fasta.fa           # print out the content for sanity check"
   ]
  },
  {
   "cell_type": "code",
   "execution_count": 78,
   "metadata": {},
   "outputs": [
    {
     "name": "stdout",
     "output_type": "stream",
     "text": [
      "\n",
      " Terminal output for multi_fasta.fa using gzip\n",
      "0.00user 0.00system 0:00.00elapsed 100%CPU (0avgtext+0avgdata 1720maxresident)k\n",
      "0inputs+8outputs (0major+97minor)pagefaults 0swaps\n",
      "\n",
      " Terminal output for multi_fasta.fa using bzip2\n",
      "0.00user 0.00system 0:00.00elapsed 75%CPU (0avgtext+0avgdata 1608maxresident)k\n",
      "0inputs+8outputs (0major+95minor)pagefaults 0swaps\n",
      "\n",
      " Terminal output for multi_fasta.fa using ArithmeticCompress\n",
      "0.00user 0.00system 0:00.00elapsed 100%CPU (0avgtext+0avgdata 4372maxresident)k\n",
      "0inputs+8outputs (0major+235minor)pagefaults 0swaps\n"
     ]
    }
   ],
   "source": [
    "from pathlib import Path           # compress the multi_fasta using the same methods and print out the terminal output\n",
    "\n",
    "file = 'multi_fasta.fa'\n",
    "art_file = file + '.art'\n",
    "zip_file = file +'.gz'\n",
    "\n",
    "command = !rm $zip_file\n",
    "    \n",
    "print(\"\\n\", \"Terminal output for %s using gzip\" %file)\n",
    "!time gzip -k $file\n",
    "print(\"\\n\", \"Terminal output for %s using bzip2\" %file)\n",
    "!time bzip2 -k $file\n",
    "print(\"\\n\", \"Terminal output for %s using ArithmeticCompress\" %file)\n",
    "!time ArithmeticCompress $file $art_file"
   ]
  },
  {
   "cell_type": "markdown",
   "metadata": {},
   "source": [
    "## Real data table"
   ]
  },
  {
   "cell_type": "markdown",
   "metadata": {},
   "source": [
    "|original file|command type|input file size|output file size|compression ratio|\n",
    "|------|------|------|------|------|\n",
    "|multi_fasta.fa|gzip|6.61 kB|1.25 kB|18.91%|\n",
    "|multi_fasta.fa|bzip2|6.61 kB|1.33 kB|20.12%|\n",
    "|multi_fasta.fa|ArithmeticCompress\t|6.61 kB|2.42 kB|36.61%|"
   ]
  }
 ],
 "metadata": {
  "kernelspec": {
   "display_name": "Python 3",
   "language": "python",
   "name": "python3"
  },
  "language_info": {
   "codemirror_mode": {
    "name": "ipython",
    "version": 3
   },
   "file_extension": ".py",
   "mimetype": "text/x-python",
   "name": "python",
   "nbconvert_exporter": "python",
   "pygments_lexer": "ipython3",
   "version": "3.6.6"
  }
 },
 "nbformat": 4,
 "nbformat_minor": 2
}
